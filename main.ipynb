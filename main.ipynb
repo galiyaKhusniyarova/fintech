{
 "cells": [
  {
   "cell_type": "code",
   "execution_count": null,
   "id": "78bccb9f-625b-48c9-8bd0-e8652fc1b58f",
   "metadata": {},
   "outputs": [],
   "source": [
    "def main():\n",
    "    print('Hello my name is Galiya Khusniyarova')\n",
    "\n",
    "main()"
   ]
  }
 ],
 "metadata": {
  "kernelspec": {
   "display_name": "Python 3 (ipykernel)",
   "language": "python",
   "name": "python3"
  },
  "language_info": {
   "codemirror_mode": {
    "name": "ipython",
    "version": 3
   },
   "file_extension": ".py",
   "mimetype": "text/x-python",
   "name": "python",
   "nbconvert_exporter": "python",
   "pygments_lexer": "ipython3",
   "version": "3.9.12"
  }
 },
 "nbformat": 4,
 "nbformat_minor": 5
}
